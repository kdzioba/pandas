{
  "nbformat": 4,
  "nbformat_minor": 0,
  "metadata": {
    "colab": {
      "name": "Pandas.ipynb",
      "provenance": [],
      "authorship_tag": "ABX9TyNmGGI+FM/TfXgj4RrKTEno",
      "include_colab_link": true
    },
    "kernelspec": {
      "name": "python3",
      "display_name": "Python 3"
    }
  },
  "cells": [
    {
      "cell_type": "markdown",
      "metadata": {
        "id": "view-in-github",
        "colab_type": "text"
      },
      "source": [
        "<a href=\"https://colab.research.google.com/github/kdzioba/pandas/blob/main/Pandas.ipynb\" target=\"_parent\"><img src=\"https://colab.research.google.com/assets/colab-badge.svg\" alt=\"Open In Colab\"/></a>"
      ]
    },
    {
      "cell_type": "code",
      "metadata": {
        "id": "rjx7gIkNzand"
      },
      "source": [
        "import numpy as np\n",
        "import pandas as pd"
      ],
      "execution_count": 1,
      "outputs": []
    },
    {
      "cell_type": "markdown",
      "metadata": {
        "id": "A4AcaH8eziFx"
      },
      "source": [
        "# Object creation"
      ]
    },
    {
      "cell_type": "code",
      "metadata": {
        "id": "VHRKZ-RSzko1",
        "outputId": "811f3290-a910-4942-a3b1-96057bc82b4e",
        "colab": {
          "base_uri": "https://localhost:8080/"
        }
      },
      "source": [
        "s=pd.Series([\"Ala\",\"Ma\",\"kota\",12])\n",
        "s"
      ],
      "execution_count": 2,
      "outputs": [
        {
          "output_type": "execute_result",
          "data": {
            "text/plain": [
              "0     Ala\n",
              "1      Ma\n",
              "2    kota\n",
              "3      12\n",
              "dtype: object"
            ]
          },
          "metadata": {
            "tags": []
          },
          "execution_count": 2
        }
      ]
    },
    {
      "cell_type": "code",
      "metadata": {
        "id": "tAeP4R1OzwPj",
        "outputId": "210a6fce-d67d-413f-9f1e-9ce887441f20",
        "colab": {
          "base_uri": "https://localhost:8080/"
        }
      },
      "source": [
        "dates=pd.date_range('20200101',periods=12,freq='M')\n",
        "dates"
      ],
      "execution_count": 4,
      "outputs": [
        {
          "output_type": "execute_result",
          "data": {
            "text/plain": [
              "DatetimeIndex(['2020-01-31', '2020-02-29', '2020-03-31', '2020-04-30',\n",
              "               '2020-05-31', '2020-06-30', '2020-07-31', '2020-08-31',\n",
              "               '2020-09-30', '2020-10-31', '2020-11-30', '2020-12-31'],\n",
              "              dtype='datetime64[ns]', freq='M')"
            ]
          },
          "metadata": {
            "tags": []
          },
          "execution_count": 4
        }
      ]
    },
    {
      "cell_type": "code",
      "metadata": {
        "id": "8u-9LicX0Jn0",
        "outputId": "cc4347ef-9fc3-4c6b-84b4-f132001a1bbe",
        "colab": {
          "base_uri": "https://localhost:8080/",
          "height": 421
        }
      },
      "source": [
        "df=pd.DataFrame(np.random.randn(12,4), index=dates, columns=list('ABCD'))\n",
        "df"
      ],
      "execution_count": 32,
      "outputs": [
        {
          "output_type": "execute_result",
          "data": {
            "text/html": [
              "<div>\n",
              "<style scoped>\n",
              "    .dataframe tbody tr th:only-of-type {\n",
              "        vertical-align: middle;\n",
              "    }\n",
              "\n",
              "    .dataframe tbody tr th {\n",
              "        vertical-align: top;\n",
              "    }\n",
              "\n",
              "    .dataframe thead th {\n",
              "        text-align: right;\n",
              "    }\n",
              "</style>\n",
              "<table border=\"1\" class=\"dataframe\">\n",
              "  <thead>\n",
              "    <tr style=\"text-align: right;\">\n",
              "      <th></th>\n",
              "      <th>A</th>\n",
              "      <th>B</th>\n",
              "      <th>C</th>\n",
              "      <th>D</th>\n",
              "    </tr>\n",
              "  </thead>\n",
              "  <tbody>\n",
              "    <tr>\n",
              "      <th>2020-01-31</th>\n",
              "      <td>1.501713</td>\n",
              "      <td>-0.781487</td>\n",
              "      <td>0.947882</td>\n",
              "      <td>1.082399</td>\n",
              "    </tr>\n",
              "    <tr>\n",
              "      <th>2020-02-29</th>\n",
              "      <td>-1.273369</td>\n",
              "      <td>-2.439252</td>\n",
              "      <td>-0.925584</td>\n",
              "      <td>-0.091303</td>\n",
              "    </tr>\n",
              "    <tr>\n",
              "      <th>2020-03-31</th>\n",
              "      <td>2.159524</td>\n",
              "      <td>0.767390</td>\n",
              "      <td>0.014389</td>\n",
              "      <td>-1.300493</td>\n",
              "    </tr>\n",
              "    <tr>\n",
              "      <th>2020-04-30</th>\n",
              "      <td>-0.430314</td>\n",
              "      <td>0.914548</td>\n",
              "      <td>-1.194965</td>\n",
              "      <td>-0.936868</td>\n",
              "    </tr>\n",
              "    <tr>\n",
              "      <th>2020-05-31</th>\n",
              "      <td>-0.418050</td>\n",
              "      <td>1.768821</td>\n",
              "      <td>0.069661</td>\n",
              "      <td>-2.178173</td>\n",
              "    </tr>\n",
              "    <tr>\n",
              "      <th>2020-06-30</th>\n",
              "      <td>-1.293833</td>\n",
              "      <td>-0.615801</td>\n",
              "      <td>1.091677</td>\n",
              "      <td>2.179843</td>\n",
              "    </tr>\n",
              "    <tr>\n",
              "      <th>2020-07-31</th>\n",
              "      <td>0.214000</td>\n",
              "      <td>-0.567785</td>\n",
              "      <td>-0.420441</td>\n",
              "      <td>-0.065188</td>\n",
              "    </tr>\n",
              "    <tr>\n",
              "      <th>2020-08-31</th>\n",
              "      <td>1.273310</td>\n",
              "      <td>0.039868</td>\n",
              "      <td>-0.226506</td>\n",
              "      <td>-0.448939</td>\n",
              "    </tr>\n",
              "    <tr>\n",
              "      <th>2020-09-30</th>\n",
              "      <td>-0.108350</td>\n",
              "      <td>-0.067305</td>\n",
              "      <td>-0.459580</td>\n",
              "      <td>1.160371</td>\n",
              "    </tr>\n",
              "    <tr>\n",
              "      <th>2020-10-31</th>\n",
              "      <td>-0.289813</td>\n",
              "      <td>-0.456289</td>\n",
              "      <td>-0.814745</td>\n",
              "      <td>-1.303892</td>\n",
              "    </tr>\n",
              "    <tr>\n",
              "      <th>2020-11-30</th>\n",
              "      <td>0.670041</td>\n",
              "      <td>1.400503</td>\n",
              "      <td>-0.878904</td>\n",
              "      <td>-1.278859</td>\n",
              "    </tr>\n",
              "    <tr>\n",
              "      <th>2020-12-31</th>\n",
              "      <td>-0.266083</td>\n",
              "      <td>-0.284017</td>\n",
              "      <td>-0.870170</td>\n",
              "      <td>1.101112</td>\n",
              "    </tr>\n",
              "  </tbody>\n",
              "</table>\n",
              "</div>"
            ],
            "text/plain": [
              "                   A         B         C         D\n",
              "2020-01-31  1.501713 -0.781487  0.947882  1.082399\n",
              "2020-02-29 -1.273369 -2.439252 -0.925584 -0.091303\n",
              "2020-03-31  2.159524  0.767390  0.014389 -1.300493\n",
              "2020-04-30 -0.430314  0.914548 -1.194965 -0.936868\n",
              "2020-05-31 -0.418050  1.768821  0.069661 -2.178173\n",
              "2020-06-30 -1.293833 -0.615801  1.091677  2.179843\n",
              "2020-07-31  0.214000 -0.567785 -0.420441 -0.065188\n",
              "2020-08-31  1.273310  0.039868 -0.226506 -0.448939\n",
              "2020-09-30 -0.108350 -0.067305 -0.459580  1.160371\n",
              "2020-10-31 -0.289813 -0.456289 -0.814745 -1.303892\n",
              "2020-11-30  0.670041  1.400503 -0.878904 -1.278859\n",
              "2020-12-31 -0.266083 -0.284017 -0.870170  1.101112"
            ]
          },
          "metadata": {
            "tags": []
          },
          "execution_count": 32
        }
      ]
    },
    {
      "cell_type": "code",
      "metadata": {
        "id": "63Y2k-SI00p-",
        "outputId": "361df4dd-7094-418a-fdce-83e25401381e",
        "colab": {
          "base_uri": "https://localhost:8080/",
          "height": 204
        }
      },
      "source": [
        "df.head()"
      ],
      "execution_count": 8,
      "outputs": [
        {
          "output_type": "execute_result",
          "data": {
            "text/html": [
              "<div>\n",
              "<style scoped>\n",
              "    .dataframe tbody tr th:only-of-type {\n",
              "        vertical-align: middle;\n",
              "    }\n",
              "\n",
              "    .dataframe tbody tr th {\n",
              "        vertical-align: top;\n",
              "    }\n",
              "\n",
              "    .dataframe thead th {\n",
              "        text-align: right;\n",
              "    }\n",
              "</style>\n",
              "<table border=\"1\" class=\"dataframe\">\n",
              "  <thead>\n",
              "    <tr style=\"text-align: right;\">\n",
              "      <th></th>\n",
              "      <th>A</th>\n",
              "      <th>B</th>\n",
              "      <th>C</th>\n",
              "      <th>D</th>\n",
              "    </tr>\n",
              "  </thead>\n",
              "  <tbody>\n",
              "    <tr>\n",
              "      <th>2020-01-31</th>\n",
              "      <td>-0.381346</td>\n",
              "      <td>-1.480114</td>\n",
              "      <td>-2.465790</td>\n",
              "      <td>0.579876</td>\n",
              "    </tr>\n",
              "    <tr>\n",
              "      <th>2020-02-29</th>\n",
              "      <td>0.984011</td>\n",
              "      <td>-0.207332</td>\n",
              "      <td>0.234548</td>\n",
              "      <td>-1.513409</td>\n",
              "    </tr>\n",
              "    <tr>\n",
              "      <th>2020-03-31</th>\n",
              "      <td>-1.139466</td>\n",
              "      <td>0.243855</td>\n",
              "      <td>-0.087969</td>\n",
              "      <td>-1.456712</td>\n",
              "    </tr>\n",
              "    <tr>\n",
              "      <th>2020-04-30</th>\n",
              "      <td>0.523104</td>\n",
              "      <td>-0.052455</td>\n",
              "      <td>-0.097392</td>\n",
              "      <td>-0.232860</td>\n",
              "    </tr>\n",
              "    <tr>\n",
              "      <th>2020-05-31</th>\n",
              "      <td>0.234196</td>\n",
              "      <td>0.341064</td>\n",
              "      <td>0.725596</td>\n",
              "      <td>-0.544574</td>\n",
              "    </tr>\n",
              "  </tbody>\n",
              "</table>\n",
              "</div>"
            ],
            "text/plain": [
              "                   A         B         C         D\n",
              "2020-01-31 -0.381346 -1.480114 -2.465790  0.579876\n",
              "2020-02-29  0.984011 -0.207332  0.234548 -1.513409\n",
              "2020-03-31 -1.139466  0.243855 -0.087969 -1.456712\n",
              "2020-04-30  0.523104 -0.052455 -0.097392 -0.232860\n",
              "2020-05-31  0.234196  0.341064  0.725596 -0.544574"
            ]
          },
          "metadata": {
            "tags": []
          },
          "execution_count": 8
        }
      ]
    },
    {
      "cell_type": "code",
      "metadata": {
        "id": "5gvFF-J803EB",
        "outputId": "4baa648c-a6a2-4432-d64c-50099999176b",
        "colab": {
          "base_uri": "https://localhost:8080/",
          "height": 204
        }
      },
      "source": [
        "df.tail()"
      ],
      "execution_count": 9,
      "outputs": [
        {
          "output_type": "execute_result",
          "data": {
            "text/html": [
              "<div>\n",
              "<style scoped>\n",
              "    .dataframe tbody tr th:only-of-type {\n",
              "        vertical-align: middle;\n",
              "    }\n",
              "\n",
              "    .dataframe tbody tr th {\n",
              "        vertical-align: top;\n",
              "    }\n",
              "\n",
              "    .dataframe thead th {\n",
              "        text-align: right;\n",
              "    }\n",
              "</style>\n",
              "<table border=\"1\" class=\"dataframe\">\n",
              "  <thead>\n",
              "    <tr style=\"text-align: right;\">\n",
              "      <th></th>\n",
              "      <th>A</th>\n",
              "      <th>B</th>\n",
              "      <th>C</th>\n",
              "      <th>D</th>\n",
              "    </tr>\n",
              "  </thead>\n",
              "  <tbody>\n",
              "    <tr>\n",
              "      <th>2020-08-31</th>\n",
              "      <td>0.173880</td>\n",
              "      <td>0.332635</td>\n",
              "      <td>0.261341</td>\n",
              "      <td>0.234050</td>\n",
              "    </tr>\n",
              "    <tr>\n",
              "      <th>2020-09-30</th>\n",
              "      <td>0.664132</td>\n",
              "      <td>2.209900</td>\n",
              "      <td>0.473242</td>\n",
              "      <td>-0.213039</td>\n",
              "    </tr>\n",
              "    <tr>\n",
              "      <th>2020-10-31</th>\n",
              "      <td>-1.176391</td>\n",
              "      <td>1.407505</td>\n",
              "      <td>0.810733</td>\n",
              "      <td>0.583791</td>\n",
              "    </tr>\n",
              "    <tr>\n",
              "      <th>2020-11-30</th>\n",
              "      <td>0.477221</td>\n",
              "      <td>-1.128357</td>\n",
              "      <td>0.156147</td>\n",
              "      <td>0.711740</td>\n",
              "    </tr>\n",
              "    <tr>\n",
              "      <th>2020-12-31</th>\n",
              "      <td>0.547373</td>\n",
              "      <td>0.075161</td>\n",
              "      <td>-2.409154</td>\n",
              "      <td>-1.869544</td>\n",
              "    </tr>\n",
              "  </tbody>\n",
              "</table>\n",
              "</div>"
            ],
            "text/plain": [
              "                   A         B         C         D\n",
              "2020-08-31  0.173880  0.332635  0.261341  0.234050\n",
              "2020-09-30  0.664132  2.209900  0.473242 -0.213039\n",
              "2020-10-31 -1.176391  1.407505  0.810733  0.583791\n",
              "2020-11-30  0.477221 -1.128357  0.156147  0.711740\n",
              "2020-12-31  0.547373  0.075161 -2.409154 -1.869544"
            ]
          },
          "metadata": {
            "tags": []
          },
          "execution_count": 9
        }
      ]
    },
    {
      "cell_type": "code",
      "metadata": {
        "id": "WQx9cTZr05dI",
        "outputId": "1f203b36-bb7d-47a5-81b7-39b08d12538f",
        "colab": {
          "base_uri": "https://localhost:8080/"
        }
      },
      "source": [
        "df.columns"
      ],
      "execution_count": 10,
      "outputs": [
        {
          "output_type": "execute_result",
          "data": {
            "text/plain": [
              "Index(['A', 'B', 'C', 'D'], dtype='object')"
            ]
          },
          "metadata": {
            "tags": []
          },
          "execution_count": 10
        }
      ]
    },
    {
      "cell_type": "code",
      "metadata": {
        "id": "TISVgkCp07h_",
        "outputId": "77f0b18e-fec9-458f-8a8e-4af7eb2ffa0d",
        "colab": {
          "base_uri": "https://localhost:8080/"
        }
      },
      "source": [
        "df.index"
      ],
      "execution_count": 11,
      "outputs": [
        {
          "output_type": "execute_result",
          "data": {
            "text/plain": [
              "DatetimeIndex(['2020-01-31', '2020-02-29', '2020-03-31', '2020-04-30',\n",
              "               '2020-05-31', '2020-06-30', '2020-07-31', '2020-08-31',\n",
              "               '2020-09-30', '2020-10-31', '2020-11-30', '2020-12-31'],\n",
              "              dtype='datetime64[ns]', freq='M')"
            ]
          },
          "metadata": {
            "tags": []
          },
          "execution_count": 11
        }
      ]
    },
    {
      "cell_type": "code",
      "metadata": {
        "id": "sT_Dvg871CKa",
        "outputId": "f1298ffa-4b8b-4c02-e753-a51a9242f6dd",
        "colab": {
          "base_uri": "https://localhost:8080/",
          "height": 173
        }
      },
      "source": [
        "df.describe().T"
      ],
      "execution_count": 14,
      "outputs": [
        {
          "output_type": "execute_result",
          "data": {
            "text/html": [
              "<div>\n",
              "<style scoped>\n",
              "    .dataframe tbody tr th:only-of-type {\n",
              "        vertical-align: middle;\n",
              "    }\n",
              "\n",
              "    .dataframe tbody tr th {\n",
              "        vertical-align: top;\n",
              "    }\n",
              "\n",
              "    .dataframe thead th {\n",
              "        text-align: right;\n",
              "    }\n",
              "</style>\n",
              "<table border=\"1\" class=\"dataframe\">\n",
              "  <thead>\n",
              "    <tr style=\"text-align: right;\">\n",
              "      <th></th>\n",
              "      <th>count</th>\n",
              "      <th>mean</th>\n",
              "      <th>std</th>\n",
              "      <th>min</th>\n",
              "      <th>25%</th>\n",
              "      <th>50%</th>\n",
              "      <th>75%</th>\n",
              "      <th>max</th>\n",
              "    </tr>\n",
              "  </thead>\n",
              "  <tbody>\n",
              "    <tr>\n",
              "      <th>A</th>\n",
              "      <td>12.0</td>\n",
              "      <td>-0.042208</td>\n",
              "      <td>0.831316</td>\n",
              "      <td>-1.573097</td>\n",
              "      <td>-0.570876</td>\n",
              "      <td>0.204038</td>\n",
              "      <td>0.529171</td>\n",
              "      <td>0.984011</td>\n",
              "    </tr>\n",
              "    <tr>\n",
              "      <th>B</th>\n",
              "      <td>12.0</td>\n",
              "      <td>-0.065526</td>\n",
              "      <td>1.127573</td>\n",
              "      <td>-1.559766</td>\n",
              "      <td>-1.008395</td>\n",
              "      <td>0.011353</td>\n",
              "      <td>0.334742</td>\n",
              "      <td>2.209900</td>\n",
              "    </tr>\n",
              "    <tr>\n",
              "      <th>C</th>\n",
              "      <td>12.0</td>\n",
              "      <td>-0.352201</td>\n",
              "      <td>1.154497</td>\n",
              "      <td>-2.465790</td>\n",
              "      <td>-0.556261</td>\n",
              "      <td>0.034089</td>\n",
              "      <td>0.314316</td>\n",
              "      <td>0.810733</td>\n",
              "    </tr>\n",
              "    <tr>\n",
              "      <th>D</th>\n",
              "      <td>12.0</td>\n",
              "      <td>-0.314386</td>\n",
              "      <td>1.110856</td>\n",
              "      <td>-1.869544</td>\n",
              "      <td>-1.470886</td>\n",
              "      <td>-0.222950</td>\n",
              "      <td>0.580854</td>\n",
              "      <td>1.589035</td>\n",
              "    </tr>\n",
              "  </tbody>\n",
              "</table>\n",
              "</div>"
            ],
            "text/plain": [
              "   count      mean       std       min       25%       50%       75%       max\n",
              "A   12.0 -0.042208  0.831316 -1.573097 -0.570876  0.204038  0.529171  0.984011\n",
              "B   12.0 -0.065526  1.127573 -1.559766 -1.008395  0.011353  0.334742  2.209900\n",
              "C   12.0 -0.352201  1.154497 -2.465790 -0.556261  0.034089  0.314316  0.810733\n",
              "D   12.0 -0.314386  1.110856 -1.869544 -1.470886 -0.222950  0.580854  1.589035"
            ]
          },
          "metadata": {
            "tags": []
          },
          "execution_count": 14
        }
      ]
    },
    {
      "cell_type": "markdown",
      "metadata": {
        "id": "YUtiTVE_1RAk"
      },
      "source": [
        "Sortowanie"
      ]
    },
    {
      "cell_type": "code",
      "metadata": {
        "id": "EYfPoRVK1Lhk",
        "outputId": "907c8676-affb-46a7-d7da-654d66a1963e",
        "colab": {
          "base_uri": "https://localhost:8080/",
          "height": 421
        }
      },
      "source": [
        "#sortowanie 0 po wierszach, 1 po kolumnach\n",
        "df.sort_index(axis=0,ascending=False)"
      ],
      "execution_count": 17,
      "outputs": [
        {
          "output_type": "execute_result",
          "data": {
            "text/html": [
              "<div>\n",
              "<style scoped>\n",
              "    .dataframe tbody tr th:only-of-type {\n",
              "        vertical-align: middle;\n",
              "    }\n",
              "\n",
              "    .dataframe tbody tr th {\n",
              "        vertical-align: top;\n",
              "    }\n",
              "\n",
              "    .dataframe thead th {\n",
              "        text-align: right;\n",
              "    }\n",
              "</style>\n",
              "<table border=\"1\" class=\"dataframe\">\n",
              "  <thead>\n",
              "    <tr style=\"text-align: right;\">\n",
              "      <th></th>\n",
              "      <th>A</th>\n",
              "      <th>B</th>\n",
              "      <th>C</th>\n",
              "      <th>D</th>\n",
              "    </tr>\n",
              "  </thead>\n",
              "  <tbody>\n",
              "    <tr>\n",
              "      <th>2020-12-31</th>\n",
              "      <td>0.547373</td>\n",
              "      <td>0.075161</td>\n",
              "      <td>-2.409154</td>\n",
              "      <td>-1.869544</td>\n",
              "    </tr>\n",
              "    <tr>\n",
              "      <th>2020-11-30</th>\n",
              "      <td>0.477221</td>\n",
              "      <td>-1.128357</td>\n",
              "      <td>0.156147</td>\n",
              "      <td>0.711740</td>\n",
              "    </tr>\n",
              "    <tr>\n",
              "      <th>2020-10-31</th>\n",
              "      <td>-1.176391</td>\n",
              "      <td>1.407505</td>\n",
              "      <td>0.810733</td>\n",
              "      <td>0.583791</td>\n",
              "    </tr>\n",
              "    <tr>\n",
              "      <th>2020-09-30</th>\n",
              "      <td>0.664132</td>\n",
              "      <td>2.209900</td>\n",
              "      <td>0.473242</td>\n",
              "      <td>-0.213039</td>\n",
              "    </tr>\n",
              "    <tr>\n",
              "      <th>2020-08-31</th>\n",
              "      <td>0.173880</td>\n",
              "      <td>0.332635</td>\n",
              "      <td>0.261341</td>\n",
              "      <td>0.234050</td>\n",
              "    </tr>\n",
              "    <tr>\n",
              "      <th>2020-07-31</th>\n",
              "      <td>0.159889</td>\n",
              "      <td>-0.968408</td>\n",
              "      <td>-0.198666</td>\n",
              "      <td>1.589035</td>\n",
              "    </tr>\n",
              "    <tr>\n",
              "      <th>2020-06-30</th>\n",
              "      <td>-1.573097</td>\n",
              "      <td>-1.559766</td>\n",
              "      <td>-1.629045</td>\n",
              "      <td>-1.640987</td>\n",
              "    </tr>\n",
              "    <tr>\n",
              "      <th>2020-05-31</th>\n",
              "      <td>0.234196</td>\n",
              "      <td>0.341064</td>\n",
              "      <td>0.725596</td>\n",
              "      <td>-0.544574</td>\n",
              "    </tr>\n",
              "    <tr>\n",
              "      <th>2020-04-30</th>\n",
              "      <td>0.523104</td>\n",
              "      <td>-0.052455</td>\n",
              "      <td>-0.097392</td>\n",
              "      <td>-0.232860</td>\n",
              "    </tr>\n",
              "    <tr>\n",
              "      <th>2020-03-31</th>\n",
              "      <td>-1.139466</td>\n",
              "      <td>0.243855</td>\n",
              "      <td>-0.087969</td>\n",
              "      <td>-1.456712</td>\n",
              "    </tr>\n",
              "    <tr>\n",
              "      <th>2020-02-29</th>\n",
              "      <td>0.984011</td>\n",
              "      <td>-0.207332</td>\n",
              "      <td>0.234548</td>\n",
              "      <td>-1.513409</td>\n",
              "    </tr>\n",
              "    <tr>\n",
              "      <th>2020-01-31</th>\n",
              "      <td>-0.381346</td>\n",
              "      <td>-1.480114</td>\n",
              "      <td>-2.465790</td>\n",
              "      <td>0.579876</td>\n",
              "    </tr>\n",
              "  </tbody>\n",
              "</table>\n",
              "</div>"
            ],
            "text/plain": [
              "                   A         B         C         D\n",
              "2020-12-31  0.547373  0.075161 -2.409154 -1.869544\n",
              "2020-11-30  0.477221 -1.128357  0.156147  0.711740\n",
              "2020-10-31 -1.176391  1.407505  0.810733  0.583791\n",
              "2020-09-30  0.664132  2.209900  0.473242 -0.213039\n",
              "2020-08-31  0.173880  0.332635  0.261341  0.234050\n",
              "2020-07-31  0.159889 -0.968408 -0.198666  1.589035\n",
              "2020-06-30 -1.573097 -1.559766 -1.629045 -1.640987\n",
              "2020-05-31  0.234196  0.341064  0.725596 -0.544574\n",
              "2020-04-30  0.523104 -0.052455 -0.097392 -0.232860\n",
              "2020-03-31 -1.139466  0.243855 -0.087969 -1.456712\n",
              "2020-02-29  0.984011 -0.207332  0.234548 -1.513409\n",
              "2020-01-31 -0.381346 -1.480114 -2.465790  0.579876"
            ]
          },
          "metadata": {
            "tags": []
          },
          "execution_count": 17
        }
      ]
    },
    {
      "cell_type": "code",
      "metadata": {
        "id": "G33hfHmo1sI7",
        "outputId": "c8e004f8-0cfb-45e7-d2c3-0dcf93353c9f",
        "colab": {
          "base_uri": "https://localhost:8080/",
          "height": 421
        }
      },
      "source": [
        "df.sort_values(by='D',ascending=False)"
      ],
      "execution_count": 18,
      "outputs": [
        {
          "output_type": "execute_result",
          "data": {
            "text/html": [
              "<div>\n",
              "<style scoped>\n",
              "    .dataframe tbody tr th:only-of-type {\n",
              "        vertical-align: middle;\n",
              "    }\n",
              "\n",
              "    .dataframe tbody tr th {\n",
              "        vertical-align: top;\n",
              "    }\n",
              "\n",
              "    .dataframe thead th {\n",
              "        text-align: right;\n",
              "    }\n",
              "</style>\n",
              "<table border=\"1\" class=\"dataframe\">\n",
              "  <thead>\n",
              "    <tr style=\"text-align: right;\">\n",
              "      <th></th>\n",
              "      <th>A</th>\n",
              "      <th>B</th>\n",
              "      <th>C</th>\n",
              "      <th>D</th>\n",
              "    </tr>\n",
              "  </thead>\n",
              "  <tbody>\n",
              "    <tr>\n",
              "      <th>2020-07-31</th>\n",
              "      <td>0.159889</td>\n",
              "      <td>-0.968408</td>\n",
              "      <td>-0.198666</td>\n",
              "      <td>1.589035</td>\n",
              "    </tr>\n",
              "    <tr>\n",
              "      <th>2020-11-30</th>\n",
              "      <td>0.477221</td>\n",
              "      <td>-1.128357</td>\n",
              "      <td>0.156147</td>\n",
              "      <td>0.711740</td>\n",
              "    </tr>\n",
              "    <tr>\n",
              "      <th>2020-10-31</th>\n",
              "      <td>-1.176391</td>\n",
              "      <td>1.407505</td>\n",
              "      <td>0.810733</td>\n",
              "      <td>0.583791</td>\n",
              "    </tr>\n",
              "    <tr>\n",
              "      <th>2020-01-31</th>\n",
              "      <td>-0.381346</td>\n",
              "      <td>-1.480114</td>\n",
              "      <td>-2.465790</td>\n",
              "      <td>0.579876</td>\n",
              "    </tr>\n",
              "    <tr>\n",
              "      <th>2020-08-31</th>\n",
              "      <td>0.173880</td>\n",
              "      <td>0.332635</td>\n",
              "      <td>0.261341</td>\n",
              "      <td>0.234050</td>\n",
              "    </tr>\n",
              "    <tr>\n",
              "      <th>2020-09-30</th>\n",
              "      <td>0.664132</td>\n",
              "      <td>2.209900</td>\n",
              "      <td>0.473242</td>\n",
              "      <td>-0.213039</td>\n",
              "    </tr>\n",
              "    <tr>\n",
              "      <th>2020-04-30</th>\n",
              "      <td>0.523104</td>\n",
              "      <td>-0.052455</td>\n",
              "      <td>-0.097392</td>\n",
              "      <td>-0.232860</td>\n",
              "    </tr>\n",
              "    <tr>\n",
              "      <th>2020-05-31</th>\n",
              "      <td>0.234196</td>\n",
              "      <td>0.341064</td>\n",
              "      <td>0.725596</td>\n",
              "      <td>-0.544574</td>\n",
              "    </tr>\n",
              "    <tr>\n",
              "      <th>2020-03-31</th>\n",
              "      <td>-1.139466</td>\n",
              "      <td>0.243855</td>\n",
              "      <td>-0.087969</td>\n",
              "      <td>-1.456712</td>\n",
              "    </tr>\n",
              "    <tr>\n",
              "      <th>2020-02-29</th>\n",
              "      <td>0.984011</td>\n",
              "      <td>-0.207332</td>\n",
              "      <td>0.234548</td>\n",
              "      <td>-1.513409</td>\n",
              "    </tr>\n",
              "    <tr>\n",
              "      <th>2020-06-30</th>\n",
              "      <td>-1.573097</td>\n",
              "      <td>-1.559766</td>\n",
              "      <td>-1.629045</td>\n",
              "      <td>-1.640987</td>\n",
              "    </tr>\n",
              "    <tr>\n",
              "      <th>2020-12-31</th>\n",
              "      <td>0.547373</td>\n",
              "      <td>0.075161</td>\n",
              "      <td>-2.409154</td>\n",
              "      <td>-1.869544</td>\n",
              "    </tr>\n",
              "  </tbody>\n",
              "</table>\n",
              "</div>"
            ],
            "text/plain": [
              "                   A         B         C         D\n",
              "2020-07-31  0.159889 -0.968408 -0.198666  1.589035\n",
              "2020-11-30  0.477221 -1.128357  0.156147  0.711740\n",
              "2020-10-31 -1.176391  1.407505  0.810733  0.583791\n",
              "2020-01-31 -0.381346 -1.480114 -2.465790  0.579876\n",
              "2020-08-31  0.173880  0.332635  0.261341  0.234050\n",
              "2020-09-30  0.664132  2.209900  0.473242 -0.213039\n",
              "2020-04-30  0.523104 -0.052455 -0.097392 -0.232860\n",
              "2020-05-31  0.234196  0.341064  0.725596 -0.544574\n",
              "2020-03-31 -1.139466  0.243855 -0.087969 -1.456712\n",
              "2020-02-29  0.984011 -0.207332  0.234548 -1.513409\n",
              "2020-06-30 -1.573097 -1.559766 -1.629045 -1.640987\n",
              "2020-12-31  0.547373  0.075161 -2.409154 -1.869544"
            ]
          },
          "metadata": {
            "tags": []
          },
          "execution_count": 18
        }
      ]
    },
    {
      "cell_type": "markdown",
      "metadata": {
        "id": "TAFe3e4R2Bww"
      },
      "source": [
        "# Selections"
      ]
    },
    {
      "cell_type": "markdown",
      "metadata": {
        "id": "s9A6oa7y2Dki"
      },
      "source": [
        "get values"
      ]
    },
    {
      "cell_type": "code",
      "metadata": {
        "id": "RiKykUla2GnG",
        "outputId": "20c73b57-e3f1-43a9-857c-52ed4b8306bb",
        "colab": {
          "base_uri": "https://localhost:8080/"
        }
      },
      "source": [
        "df['A']"
      ],
      "execution_count": 19,
      "outputs": [
        {
          "output_type": "execute_result",
          "data": {
            "text/plain": [
              "2020-01-31   -0.381346\n",
              "2020-02-29    0.984011\n",
              "2020-03-31   -1.139466\n",
              "2020-04-30    0.523104\n",
              "2020-05-31    0.234196\n",
              "2020-06-30   -1.573097\n",
              "2020-07-31    0.159889\n",
              "2020-08-31    0.173880\n",
              "2020-09-30    0.664132\n",
              "2020-10-31   -1.176391\n",
              "2020-11-30    0.477221\n",
              "2020-12-31    0.547373\n",
              "Freq: M, Name: A, dtype: float64"
            ]
          },
          "metadata": {
            "tags": []
          },
          "execution_count": 19
        }
      ]
    },
    {
      "cell_type": "code",
      "metadata": {
        "id": "jluLEZCm2Kpd",
        "outputId": "3901e5e5-441e-403d-fa08-6f71d9f2157e",
        "colab": {
          "base_uri": "https://localhost:8080/",
          "height": 111
        }
      },
      "source": [
        "df[1:3]"
      ],
      "execution_count": 21,
      "outputs": [
        {
          "output_type": "execute_result",
          "data": {
            "text/html": [
              "<div>\n",
              "<style scoped>\n",
              "    .dataframe tbody tr th:only-of-type {\n",
              "        vertical-align: middle;\n",
              "    }\n",
              "\n",
              "    .dataframe tbody tr th {\n",
              "        vertical-align: top;\n",
              "    }\n",
              "\n",
              "    .dataframe thead th {\n",
              "        text-align: right;\n",
              "    }\n",
              "</style>\n",
              "<table border=\"1\" class=\"dataframe\">\n",
              "  <thead>\n",
              "    <tr style=\"text-align: right;\">\n",
              "      <th></th>\n",
              "      <th>A</th>\n",
              "      <th>B</th>\n",
              "      <th>C</th>\n",
              "      <th>D</th>\n",
              "    </tr>\n",
              "  </thead>\n",
              "  <tbody>\n",
              "    <tr>\n",
              "      <th>2020-02-29</th>\n",
              "      <td>0.984011</td>\n",
              "      <td>-0.207332</td>\n",
              "      <td>0.234548</td>\n",
              "      <td>-1.513409</td>\n",
              "    </tr>\n",
              "    <tr>\n",
              "      <th>2020-03-31</th>\n",
              "      <td>-1.139466</td>\n",
              "      <td>0.243855</td>\n",
              "      <td>-0.087969</td>\n",
              "      <td>-1.456712</td>\n",
              "    </tr>\n",
              "  </tbody>\n",
              "</table>\n",
              "</div>"
            ],
            "text/plain": [
              "                   A         B         C         D\n",
              "2020-02-29  0.984011 -0.207332  0.234548 -1.513409\n",
              "2020-03-31 -1.139466  0.243855 -0.087969 -1.456712"
            ]
          },
          "metadata": {
            "tags": []
          },
          "execution_count": 21
        }
      ]
    },
    {
      "cell_type": "markdown",
      "metadata": {
        "id": "EKqLbZGk2QaX"
      },
      "source": [
        "by label"
      ]
    },
    {
      "cell_type": "code",
      "metadata": {
        "id": "_6TAJRxY2Rle",
        "outputId": "a31ba74f-ad9a-41c4-f885-f3826d7a289c",
        "colab": {
          "base_uri": "https://localhost:8080/",
          "height": 173
        }
      },
      "source": [
        "df.loc['20200630':'20200930',['A','C']]"
      ],
      "execution_count": 26,
      "outputs": [
        {
          "output_type": "execute_result",
          "data": {
            "text/html": [
              "<div>\n",
              "<style scoped>\n",
              "    .dataframe tbody tr th:only-of-type {\n",
              "        vertical-align: middle;\n",
              "    }\n",
              "\n",
              "    .dataframe tbody tr th {\n",
              "        vertical-align: top;\n",
              "    }\n",
              "\n",
              "    .dataframe thead th {\n",
              "        text-align: right;\n",
              "    }\n",
              "</style>\n",
              "<table border=\"1\" class=\"dataframe\">\n",
              "  <thead>\n",
              "    <tr style=\"text-align: right;\">\n",
              "      <th></th>\n",
              "      <th>A</th>\n",
              "      <th>C</th>\n",
              "    </tr>\n",
              "  </thead>\n",
              "  <tbody>\n",
              "    <tr>\n",
              "      <th>2020-06-30</th>\n",
              "      <td>-1.573097</td>\n",
              "      <td>-1.629045</td>\n",
              "    </tr>\n",
              "    <tr>\n",
              "      <th>2020-07-31</th>\n",
              "      <td>0.159889</td>\n",
              "      <td>-0.198666</td>\n",
              "    </tr>\n",
              "    <tr>\n",
              "      <th>2020-08-31</th>\n",
              "      <td>0.173880</td>\n",
              "      <td>0.261341</td>\n",
              "    </tr>\n",
              "    <tr>\n",
              "      <th>2020-09-30</th>\n",
              "      <td>0.664132</td>\n",
              "      <td>0.473242</td>\n",
              "    </tr>\n",
              "  </tbody>\n",
              "</table>\n",
              "</div>"
            ],
            "text/plain": [
              "                   A         C\n",
              "2020-06-30 -1.573097 -1.629045\n",
              "2020-07-31  0.159889 -0.198666\n",
              "2020-08-31  0.173880  0.261341\n",
              "2020-09-30  0.664132  0.473242"
            ]
          },
          "metadata": {
            "tags": []
          },
          "execution_count": 26
        }
      ]
    },
    {
      "cell_type": "markdown",
      "metadata": {
        "id": "QQen262l21qs"
      },
      "source": [
        "Selection by position"
      ]
    },
    {
      "cell_type": "code",
      "metadata": {
        "id": "5lhmkMTP23ZE",
        "outputId": "ad4eeca7-9f64-4d3d-845a-2a50cf2a9974",
        "colab": {
          "base_uri": "https://localhost:8080/"
        }
      },
      "source": [
        "df.iloc[3]"
      ],
      "execution_count": 27,
      "outputs": [
        {
          "output_type": "execute_result",
          "data": {
            "text/plain": [
              "A    0.523104\n",
              "B   -0.052455\n",
              "C   -0.097392\n",
              "D   -0.232860\n",
              "Name: 2020-04-30 00:00:00, dtype: float64"
            ]
          },
          "metadata": {
            "tags": []
          },
          "execution_count": 27
        }
      ]
    },
    {
      "cell_type": "code",
      "metadata": {
        "id": "F0IIAhi93BDV",
        "outputId": "e0cae871-da7e-466b-f034-16dfda1feebf",
        "colab": {
          "base_uri": "https://localhost:8080/",
          "height": 421
        }
      },
      "source": [
        "df.iloc[:,1:3]"
      ],
      "execution_count": 29,
      "outputs": [
        {
          "output_type": "execute_result",
          "data": {
            "text/html": [
              "<div>\n",
              "<style scoped>\n",
              "    .dataframe tbody tr th:only-of-type {\n",
              "        vertical-align: middle;\n",
              "    }\n",
              "\n",
              "    .dataframe tbody tr th {\n",
              "        vertical-align: top;\n",
              "    }\n",
              "\n",
              "    .dataframe thead th {\n",
              "        text-align: right;\n",
              "    }\n",
              "</style>\n",
              "<table border=\"1\" class=\"dataframe\">\n",
              "  <thead>\n",
              "    <tr style=\"text-align: right;\">\n",
              "      <th></th>\n",
              "      <th>B</th>\n",
              "      <th>C</th>\n",
              "    </tr>\n",
              "  </thead>\n",
              "  <tbody>\n",
              "    <tr>\n",
              "      <th>2020-01-31</th>\n",
              "      <td>-1.480114</td>\n",
              "      <td>-2.465790</td>\n",
              "    </tr>\n",
              "    <tr>\n",
              "      <th>2020-02-29</th>\n",
              "      <td>-0.207332</td>\n",
              "      <td>0.234548</td>\n",
              "    </tr>\n",
              "    <tr>\n",
              "      <th>2020-03-31</th>\n",
              "      <td>0.243855</td>\n",
              "      <td>-0.087969</td>\n",
              "    </tr>\n",
              "    <tr>\n",
              "      <th>2020-04-30</th>\n",
              "      <td>-0.052455</td>\n",
              "      <td>-0.097392</td>\n",
              "    </tr>\n",
              "    <tr>\n",
              "      <th>2020-05-31</th>\n",
              "      <td>0.341064</td>\n",
              "      <td>0.725596</td>\n",
              "    </tr>\n",
              "    <tr>\n",
              "      <th>2020-06-30</th>\n",
              "      <td>-1.559766</td>\n",
              "      <td>-1.629045</td>\n",
              "    </tr>\n",
              "    <tr>\n",
              "      <th>2020-07-31</th>\n",
              "      <td>-0.968408</td>\n",
              "      <td>-0.198666</td>\n",
              "    </tr>\n",
              "    <tr>\n",
              "      <th>2020-08-31</th>\n",
              "      <td>0.332635</td>\n",
              "      <td>0.261341</td>\n",
              "    </tr>\n",
              "    <tr>\n",
              "      <th>2020-09-30</th>\n",
              "      <td>2.209900</td>\n",
              "      <td>0.473242</td>\n",
              "    </tr>\n",
              "    <tr>\n",
              "      <th>2020-10-31</th>\n",
              "      <td>1.407505</td>\n",
              "      <td>0.810733</td>\n",
              "    </tr>\n",
              "    <tr>\n",
              "      <th>2020-11-30</th>\n",
              "      <td>-1.128357</td>\n",
              "      <td>0.156147</td>\n",
              "    </tr>\n",
              "    <tr>\n",
              "      <th>2020-12-31</th>\n",
              "      <td>0.075161</td>\n",
              "      <td>-2.409154</td>\n",
              "    </tr>\n",
              "  </tbody>\n",
              "</table>\n",
              "</div>"
            ],
            "text/plain": [
              "                   B         C\n",
              "2020-01-31 -1.480114 -2.465790\n",
              "2020-02-29 -0.207332  0.234548\n",
              "2020-03-31  0.243855 -0.087969\n",
              "2020-04-30 -0.052455 -0.097392\n",
              "2020-05-31  0.341064  0.725596\n",
              "2020-06-30 -1.559766 -1.629045\n",
              "2020-07-31 -0.968408 -0.198666\n",
              "2020-08-31  0.332635  0.261341\n",
              "2020-09-30  2.209900  0.473242\n",
              "2020-10-31  1.407505  0.810733\n",
              "2020-11-30 -1.128357  0.156147\n",
              "2020-12-31  0.075161 -2.409154"
            ]
          },
          "metadata": {
            "tags": []
          },
          "execution_count": 29
        }
      ]
    },
    {
      "cell_type": "markdown",
      "metadata": {
        "id": "jM0TVqAq3oCu"
      },
      "source": [
        "# Setting"
      ]
    },
    {
      "cell_type": "markdown",
      "metadata": {
        "id": "v5CDaA2G29Hy"
      },
      "source": [
        "Setting by label"
      ]
    },
    {
      "cell_type": "code",
      "metadata": {
        "id": "ewNQAv8C3tDe",
        "outputId": "3ce3c969-8e94-4db8-b5a7-50778300ea68",
        "colab": {
          "base_uri": "https://localhost:8080/",
          "height": 80
        }
      },
      "source": [
        "df.at[dates[0],'B']=0\n",
        "df[0:1]"
      ],
      "execution_count": 42,
      "outputs": [
        {
          "output_type": "execute_result",
          "data": {
            "text/html": [
              "<div>\n",
              "<style scoped>\n",
              "    .dataframe tbody tr th:only-of-type {\n",
              "        vertical-align: middle;\n",
              "    }\n",
              "\n",
              "    .dataframe tbody tr th {\n",
              "        vertical-align: top;\n",
              "    }\n",
              "\n",
              "    .dataframe thead th {\n",
              "        text-align: right;\n",
              "    }\n",
              "</style>\n",
              "<table border=\"1\" class=\"dataframe\">\n",
              "  <thead>\n",
              "    <tr style=\"text-align: right;\">\n",
              "      <th></th>\n",
              "      <th>A</th>\n",
              "      <th>B</th>\n",
              "      <th>C</th>\n",
              "      <th>D</th>\n",
              "    </tr>\n",
              "  </thead>\n",
              "  <tbody>\n",
              "    <tr>\n",
              "      <th>2020-01-31</th>\n",
              "      <td>1.501713</td>\n",
              "      <td>0.0</td>\n",
              "      <td>-1.0</td>\n",
              "      <td>1.082399</td>\n",
              "    </tr>\n",
              "  </tbody>\n",
              "</table>\n",
              "</div>"
            ],
            "text/plain": [
              "                   A    B    C         D\n",
              "2020-01-31  1.501713  0.0 -1.0  1.082399"
            ]
          },
          "metadata": {
            "tags": []
          },
          "execution_count": 42
        }
      ]
    },
    {
      "cell_type": "markdown",
      "metadata": {
        "id": "d1Y7_aC64LMg"
      },
      "source": [
        "Setting by position"
      ]
    },
    {
      "cell_type": "code",
      "metadata": {
        "id": "NoDc-XPt4Yoz",
        "outputId": "406b2f52-91fd-4ab6-d004-f168cda63cb7",
        "colab": {
          "base_uri": "https://localhost:8080/",
          "height": 80
        }
      },
      "source": [
        "df.iat[0,2]=-1\n",
        "df[0:1]"
      ],
      "execution_count": 44,
      "outputs": [
        {
          "output_type": "execute_result",
          "data": {
            "text/html": [
              "<div>\n",
              "<style scoped>\n",
              "    .dataframe tbody tr th:only-of-type {\n",
              "        vertical-align: middle;\n",
              "    }\n",
              "\n",
              "    .dataframe tbody tr th {\n",
              "        vertical-align: top;\n",
              "    }\n",
              "\n",
              "    .dataframe thead th {\n",
              "        text-align: right;\n",
              "    }\n",
              "</style>\n",
              "<table border=\"1\" class=\"dataframe\">\n",
              "  <thead>\n",
              "    <tr style=\"text-align: right;\">\n",
              "      <th></th>\n",
              "      <th>A</th>\n",
              "      <th>B</th>\n",
              "      <th>C</th>\n",
              "      <th>D</th>\n",
              "    </tr>\n",
              "  </thead>\n",
              "  <tbody>\n",
              "    <tr>\n",
              "      <th>2020-01-31</th>\n",
              "      <td>1.501713</td>\n",
              "      <td>0.0</td>\n",
              "      <td>-1.0</td>\n",
              "      <td>1.082399</td>\n",
              "    </tr>\n",
              "  </tbody>\n",
              "</table>\n",
              "</div>"
            ],
            "text/plain": [
              "                   A    B    C         D\n",
              "2020-01-31  1.501713  0.0 -1.0  1.082399"
            ]
          },
          "metadata": {
            "tags": []
          },
          "execution_count": 44
        }
      ]
    },
    {
      "cell_type": "code",
      "metadata": {
        "id": "ezTTebbg4wtx",
        "outputId": "93307404-3767-4a04-ba73-485503422088",
        "colab": {
          "base_uri": "https://localhost:8080/",
          "height": 475
        }
      },
      "source": [
        "df.loc[1:3,'D']=0\n",
        "df"
      ],
      "execution_count": 46,
      "outputs": [
        {
          "output_type": "stream",
          "text": [
            "/usr/local/lib/python3.6/dist-packages/ipykernel_launcher.py:1: FutureWarning: Slicing a positional slice with .loc is not supported, and will raise TypeError in a future version.  Use .loc with labels or .iloc with positions instead.\n",
            "  \"\"\"Entry point for launching an IPython kernel.\n"
          ],
          "name": "stderr"
        },
        {
          "output_type": "execute_result",
          "data": {
            "text/html": [
              "<div>\n",
              "<style scoped>\n",
              "    .dataframe tbody tr th:only-of-type {\n",
              "        vertical-align: middle;\n",
              "    }\n",
              "\n",
              "    .dataframe tbody tr th {\n",
              "        vertical-align: top;\n",
              "    }\n",
              "\n",
              "    .dataframe thead th {\n",
              "        text-align: right;\n",
              "    }\n",
              "</style>\n",
              "<table border=\"1\" class=\"dataframe\">\n",
              "  <thead>\n",
              "    <tr style=\"text-align: right;\">\n",
              "      <th></th>\n",
              "      <th>A</th>\n",
              "      <th>B</th>\n",
              "      <th>C</th>\n",
              "      <th>D</th>\n",
              "    </tr>\n",
              "  </thead>\n",
              "  <tbody>\n",
              "    <tr>\n",
              "      <th>2020-01-31</th>\n",
              "      <td>1.501713</td>\n",
              "      <td>0.000000</td>\n",
              "      <td>-1.000000</td>\n",
              "      <td>1.082399</td>\n",
              "    </tr>\n",
              "    <tr>\n",
              "      <th>2020-02-29</th>\n",
              "      <td>-1.273369</td>\n",
              "      <td>-2.439252</td>\n",
              "      <td>-0.925584</td>\n",
              "      <td>0.000000</td>\n",
              "    </tr>\n",
              "    <tr>\n",
              "      <th>2020-03-31</th>\n",
              "      <td>2.159524</td>\n",
              "      <td>0.767390</td>\n",
              "      <td>0.014389</td>\n",
              "      <td>0.000000</td>\n",
              "    </tr>\n",
              "    <tr>\n",
              "      <th>2020-04-30</th>\n",
              "      <td>-0.430314</td>\n",
              "      <td>0.914548</td>\n",
              "      <td>-1.194965</td>\n",
              "      <td>-0.936868</td>\n",
              "    </tr>\n",
              "    <tr>\n",
              "      <th>2020-05-31</th>\n",
              "      <td>-0.418050</td>\n",
              "      <td>1.768821</td>\n",
              "      <td>0.069661</td>\n",
              "      <td>-2.178173</td>\n",
              "    </tr>\n",
              "    <tr>\n",
              "      <th>2020-06-30</th>\n",
              "      <td>-1.293833</td>\n",
              "      <td>-0.615801</td>\n",
              "      <td>1.091677</td>\n",
              "      <td>2.179843</td>\n",
              "    </tr>\n",
              "    <tr>\n",
              "      <th>2020-07-31</th>\n",
              "      <td>0.214000</td>\n",
              "      <td>-0.567785</td>\n",
              "      <td>-0.420441</td>\n",
              "      <td>-0.065188</td>\n",
              "    </tr>\n",
              "    <tr>\n",
              "      <th>2020-08-31</th>\n",
              "      <td>1.273310</td>\n",
              "      <td>0.039868</td>\n",
              "      <td>-0.226506</td>\n",
              "      <td>-0.448939</td>\n",
              "    </tr>\n",
              "    <tr>\n",
              "      <th>2020-09-30</th>\n",
              "      <td>-0.108350</td>\n",
              "      <td>-0.067305</td>\n",
              "      <td>-0.459580</td>\n",
              "      <td>1.160371</td>\n",
              "    </tr>\n",
              "    <tr>\n",
              "      <th>2020-10-31</th>\n",
              "      <td>-0.289813</td>\n",
              "      <td>-0.456289</td>\n",
              "      <td>-0.814745</td>\n",
              "      <td>-1.303892</td>\n",
              "    </tr>\n",
              "    <tr>\n",
              "      <th>2020-11-30</th>\n",
              "      <td>0.670041</td>\n",
              "      <td>1.400503</td>\n",
              "      <td>-0.878904</td>\n",
              "      <td>-1.278859</td>\n",
              "    </tr>\n",
              "    <tr>\n",
              "      <th>2020-12-31</th>\n",
              "      <td>-0.266083</td>\n",
              "      <td>-0.284017</td>\n",
              "      <td>-0.870170</td>\n",
              "      <td>1.101112</td>\n",
              "    </tr>\n",
              "  </tbody>\n",
              "</table>\n",
              "</div>"
            ],
            "text/plain": [
              "                   A         B         C         D\n",
              "2020-01-31  1.501713  0.000000 -1.000000  1.082399\n",
              "2020-02-29 -1.273369 -2.439252 -0.925584  0.000000\n",
              "2020-03-31  2.159524  0.767390  0.014389  0.000000\n",
              "2020-04-30 -0.430314  0.914548 -1.194965 -0.936868\n",
              "2020-05-31 -0.418050  1.768821  0.069661 -2.178173\n",
              "2020-06-30 -1.293833 -0.615801  1.091677  2.179843\n",
              "2020-07-31  0.214000 -0.567785 -0.420441 -0.065188\n",
              "2020-08-31  1.273310  0.039868 -0.226506 -0.448939\n",
              "2020-09-30 -0.108350 -0.067305 -0.459580  1.160371\n",
              "2020-10-31 -0.289813 -0.456289 -0.814745 -1.303892\n",
              "2020-11-30  0.670041  1.400503 -0.878904 -1.278859\n",
              "2020-12-31 -0.266083 -0.284017 -0.870170  1.101112"
            ]
          },
          "metadata": {
            "tags": []
          },
          "execution_count": 46
        }
      ]
    },
    {
      "cell_type": "markdown",
      "metadata": {
        "id": "hFGIUSEg5DRS"
      },
      "source": [
        "by where"
      ]
    },
    {
      "cell_type": "code",
      "metadata": {
        "id": "2Mz3K_Zh5EYp"
      },
      "source": [
        "df[df>1]=df-1"
      ],
      "execution_count": 47,
      "outputs": []
    },
    {
      "cell_type": "code",
      "metadata": {
        "id": "qLKxWOHi5RyP",
        "outputId": "6221792d-5cf1-48c4-be0f-ad24404b7a3b",
        "colab": {
          "base_uri": "https://localhost:8080/",
          "height": 421
        }
      },
      "source": [
        "df"
      ],
      "execution_count": 48,
      "outputs": [
        {
          "output_type": "execute_result",
          "data": {
            "text/html": [
              "<div>\n",
              "<style scoped>\n",
              "    .dataframe tbody tr th:only-of-type {\n",
              "        vertical-align: middle;\n",
              "    }\n",
              "\n",
              "    .dataframe tbody tr th {\n",
              "        vertical-align: top;\n",
              "    }\n",
              "\n",
              "    .dataframe thead th {\n",
              "        text-align: right;\n",
              "    }\n",
              "</style>\n",
              "<table border=\"1\" class=\"dataframe\">\n",
              "  <thead>\n",
              "    <tr style=\"text-align: right;\">\n",
              "      <th></th>\n",
              "      <th>A</th>\n",
              "      <th>B</th>\n",
              "      <th>C</th>\n",
              "      <th>D</th>\n",
              "    </tr>\n",
              "  </thead>\n",
              "  <tbody>\n",
              "    <tr>\n",
              "      <th>2020-01-31</th>\n",
              "      <td>0.501713</td>\n",
              "      <td>0.000000</td>\n",
              "      <td>-1.000000</td>\n",
              "      <td>0.082399</td>\n",
              "    </tr>\n",
              "    <tr>\n",
              "      <th>2020-02-29</th>\n",
              "      <td>-1.273369</td>\n",
              "      <td>-2.439252</td>\n",
              "      <td>-0.925584</td>\n",
              "      <td>0.000000</td>\n",
              "    </tr>\n",
              "    <tr>\n",
              "      <th>2020-03-31</th>\n",
              "      <td>1.159524</td>\n",
              "      <td>0.767390</td>\n",
              "      <td>0.014389</td>\n",
              "      <td>0.000000</td>\n",
              "    </tr>\n",
              "    <tr>\n",
              "      <th>2020-04-30</th>\n",
              "      <td>-0.430314</td>\n",
              "      <td>0.914548</td>\n",
              "      <td>-1.194965</td>\n",
              "      <td>-0.936868</td>\n",
              "    </tr>\n",
              "    <tr>\n",
              "      <th>2020-05-31</th>\n",
              "      <td>-0.418050</td>\n",
              "      <td>0.768821</td>\n",
              "      <td>0.069661</td>\n",
              "      <td>-2.178173</td>\n",
              "    </tr>\n",
              "    <tr>\n",
              "      <th>2020-06-30</th>\n",
              "      <td>-1.293833</td>\n",
              "      <td>-0.615801</td>\n",
              "      <td>0.091677</td>\n",
              "      <td>1.179843</td>\n",
              "    </tr>\n",
              "    <tr>\n",
              "      <th>2020-07-31</th>\n",
              "      <td>0.214000</td>\n",
              "      <td>-0.567785</td>\n",
              "      <td>-0.420441</td>\n",
              "      <td>-0.065188</td>\n",
              "    </tr>\n",
              "    <tr>\n",
              "      <th>2020-08-31</th>\n",
              "      <td>0.273310</td>\n",
              "      <td>0.039868</td>\n",
              "      <td>-0.226506</td>\n",
              "      <td>-0.448939</td>\n",
              "    </tr>\n",
              "    <tr>\n",
              "      <th>2020-09-30</th>\n",
              "      <td>-0.108350</td>\n",
              "      <td>-0.067305</td>\n",
              "      <td>-0.459580</td>\n",
              "      <td>0.160371</td>\n",
              "    </tr>\n",
              "    <tr>\n",
              "      <th>2020-10-31</th>\n",
              "      <td>-0.289813</td>\n",
              "      <td>-0.456289</td>\n",
              "      <td>-0.814745</td>\n",
              "      <td>-1.303892</td>\n",
              "    </tr>\n",
              "    <tr>\n",
              "      <th>2020-11-30</th>\n",
              "      <td>0.670041</td>\n",
              "      <td>0.400503</td>\n",
              "      <td>-0.878904</td>\n",
              "      <td>-1.278859</td>\n",
              "    </tr>\n",
              "    <tr>\n",
              "      <th>2020-12-31</th>\n",
              "      <td>-0.266083</td>\n",
              "      <td>-0.284017</td>\n",
              "      <td>-0.870170</td>\n",
              "      <td>0.101112</td>\n",
              "    </tr>\n",
              "  </tbody>\n",
              "</table>\n",
              "</div>"
            ],
            "text/plain": [
              "                   A         B         C         D\n",
              "2020-01-31  0.501713  0.000000 -1.000000  0.082399\n",
              "2020-02-29 -1.273369 -2.439252 -0.925584  0.000000\n",
              "2020-03-31  1.159524  0.767390  0.014389  0.000000\n",
              "2020-04-30 -0.430314  0.914548 -1.194965 -0.936868\n",
              "2020-05-31 -0.418050  0.768821  0.069661 -2.178173\n",
              "2020-06-30 -1.293833 -0.615801  0.091677  1.179843\n",
              "2020-07-31  0.214000 -0.567785 -0.420441 -0.065188\n",
              "2020-08-31  0.273310  0.039868 -0.226506 -0.448939\n",
              "2020-09-30 -0.108350 -0.067305 -0.459580  0.160371\n",
              "2020-10-31 -0.289813 -0.456289 -0.814745 -1.303892\n",
              "2020-11-30  0.670041  0.400503 -0.878904 -1.278859\n",
              "2020-12-31 -0.266083 -0.284017 -0.870170  0.101112"
            ]
          },
          "metadata": {
            "tags": []
          },
          "execution_count": 48
        }
      ]
    }
  ]
}